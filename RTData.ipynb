{
 "cells": [
  {
   "cell_type": "markdown",
   "metadata": {},
   "source": [
    "# Rotten Excuses: Unfavorable Rotten Tomatoes scores not responsible for low summer box office performance"
   ]
  },
  {
   "cell_type": "markdown",
   "metadata": {},
   "source": [
    "#### By Ellis Clopton"
   ]
  },
  {
   "cell_type": "markdown",
   "metadata": {},
   "source": [
    "> For the [first time in 10 years,](http://www.boxofficemojo.com/news/?id=4326) the 2017 summer movie season concluded without breaking \\$4 billion in domestic box office ticket sales. With only \\$3.8 billion in the bank after pulling in \\$4.4 billion in 2016, this marks the worst summer box office performance in a decade, leading several figures in the American movie industry pondering as to what caused such decline.\n",
    "> Shortly after the summer season wrapped up, the [New York Times published an article detailing the responses from various directions and studio executives](https://www.nytimes.com/2017/09/07/business/media/rotten-tomatoes-box-office.html) and the common scapegoat for poor ticket sales was online movie review aggregator Rotten Tomatoes."
   ]
  },
  {
   "cell_type": "code",
   "execution_count": 3,
   "metadata": {},
   "outputs": [
    {
     "name": "stderr",
     "output_type": "stream",
     "text": [
      "\n",
      "Attaching package: 'dplyr'\n",
      "\n",
      "The following objects are masked from 'package:stats':\n",
      "\n",
      "    filter, lag\n",
      "\n",
      "The following objects are masked from 'package:base':\n",
      "\n",
      "    intersect, setdiff, setequal, union\n",
      "\n"
     ]
    }
   ],
   "source": [
    "library(dplyr)\n",
    "library(ggplot2)"
   ]
  },
  {
   "cell_type": "code",
   "execution_count": 4,
   "metadata": {},
   "outputs": [],
   "source": [
    "boxoffice17 <- read.csv(\"Desktop/Homework/Data Viz/BoxOffice17.csv\")"
   ]
  },
  {
   "cell_type": "code",
   "execution_count": 5,
   "metadata": {},
   "outputs": [
    {
     "data": {
      "text/html": [
       "<table>\n",
       "<thead><tr><th scope=col>Movie.Title</th><th scope=col>Box.Office</th><th scope=col>RT.Score</th></tr></thead>\n",
       "<tbody>\n",
       "\t<tr><td>Wonder Woman                  </td><td>412563408                     </td><td>92                            </td></tr>\n",
       "\t<tr><td>Guardians of the Galaxy Vol. 2</td><td>389813101                     </td><td>83                            </td></tr>\n",
       "\t<tr><td>Spider-Man: Homecoming        </td><td>334201140                     </td><td>92                            </td></tr>\n",
       "\t<tr><td>Despicable Me 3               </td><td>264624300                     </td><td>60                            </td></tr>\n",
       "\t<tr><td>Dunkirk                       </td><td>188045546                     </td><td>93                            </td></tr>\n",
       "\t<tr><td>Pirates of the Caribbean 5    </td><td>172558876                     </td><td>30                            </td></tr>\n",
       "</tbody>\n",
       "</table>\n"
      ],
      "text/latex": [
       "\\begin{tabular}{r|lll}\n",
       " Movie.Title & Box.Office & RT.Score\\\\\n",
       "\\hline\n",
       "\t Wonder Woman                   & 412563408                      & 92                            \\\\\n",
       "\t Guardians of the Galaxy Vol. 2 & 389813101                      & 83                            \\\\\n",
       "\t Spider-Man: Homecoming         & 334201140                      & 92                            \\\\\n",
       "\t Despicable Me 3                & 264624300                      & 60                            \\\\\n",
       "\t Dunkirk                        & 188045546                      & 93                            \\\\\n",
       "\t Pirates of the Caribbean 5     & 172558876                      & 30                            \\\\\n",
       "\\end{tabular}\n"
      ],
      "text/markdown": [
       "\n",
       "Movie.Title | Box.Office | RT.Score | \n",
       "|---|---|---|---|---|---|\n",
       "| Wonder Woman                   | 412563408                      | 92                             | \n",
       "| Guardians of the Galaxy Vol. 2 | 389813101                      | 83                             | \n",
       "| Spider-Man: Homecoming         | 334201140                      | 92                             | \n",
       "| Despicable Me 3                | 264624300                      | 60                             | \n",
       "| Dunkirk                        | 188045546                      | 93                             | \n",
       "| Pirates of the Caribbean 5     | 172558876                      | 30                             | \n",
       "\n",
       "\n"
      ],
      "text/plain": [
       "  Movie.Title                    Box.Office RT.Score\n",
       "1 Wonder Woman                   412563408  92      \n",
       "2 Guardians of the Galaxy Vol. 2 389813101  83      \n",
       "3 Spider-Man: Homecoming         334201140  92      \n",
       "4 Despicable Me 3                264624300  60      \n",
       "5 Dunkirk                        188045546  93      \n",
       "6 Pirates of the Caribbean 5     172558876  30      "
      ]
     },
     "metadata": {},
     "output_type": "display_data"
    }
   ],
   "source": [
    "head(boxoffice17)"
   ]
  },
  {
   "cell_type": "code",
   "execution_count": null,
   "metadata": {},
   "outputs": [],
   "source": [
    "ggplot(topearners, aes(x = Movie.Title, weight = Box.Office)) + geom_bar() + coord_flip() +\n",
    "labs(x = \"Top Earners\", y = \"Domestic Box Office Returns (Million)\", title = \"Summer 2017 Box Office Returns\" , subtitle = \"Of the 12 summer movies to break $100 million, \n",
    "only two were considered 'rotten' on the tomatometer\", caption = \"Source: MovieMojo | Ellis Clopton\")"
   ]
  },
  {
   "attachments": {},
   "cell_type": "markdown",
   "metadata": {},
   "source": [
    "![MovieProject1.jpg](https://image.ibb.co/c31Lcx/Movie_Project1.jpg)"
   ]
  },
  {
   "cell_type": "markdown",
   "metadata": {},
   "source": [
    "> When analyzing the data for summer 2017's top earners (the movies that earned more than \\$100 million) and comparing their Rotten Tomatoes scores, it becomes apparent that the movies audiences spent their money on were rated above 60 percent on the Tomatometer. Of the box office's heaviest hitters, only two movies were rated below 60 percent, certified \"rotten\" on the website. It should be noted that, of the 12 movies to break \\$100 million, 9 are established franchise movies, including both \"rotten\" movies."
   ]
  },
  {
   "cell_type": "code",
   "execution_count": null,
   "metadata": {},
   "outputs": [],
   "source": [
    "boxofficeall <- read.csv(\"Desktop/Homework/Data Viz/BoxOfficeAll.csv\")"
   ]
  },
  {
   "cell_type": "code",
   "execution_count": null,
   "metadata": {},
   "outputs": [],
   "source": [
    "ggplot(boxofficeall, aes(x= RT.Score, y= Box.Office)) + geom_point() + geom_smooth(method = lm, se = FALSE)+ geom_text(data = boxofficeall, aes(label = Movie.Title), size = 2, nudge_x =2.75, check_overlap = TRUE) +\n",
    "labs(x = \"Tomatometer Score\", y = \"Summer Domestic Box Office Returns (Million)\", title = \"Summer Domestic Box Office Returns Compared to RT Scores\" , subtitle = \"There's a mix in critical consensus with the chart's top grossing movies, \n",
    "but the spread among movies that break $100 million is almost equal across the Tomatometer\", caption = \"Source: MovieMojo| Ellis Clopton\") +\n",
    "theme(plot.title = element_text(size = 16, face = \"bold\"), axis.title = element_text(size = 8), axis.ticks=element_blank())"
   ]
  },
  {
   "attachments": {},
   "cell_type": "markdown",
   "metadata": {},
   "source": [
    "![MovieProject2.jpg](https://image.ibb.co/gWXRHx/Movie_Project2.jpg)"
   ]
  },
  {
   "cell_type": "markdown",
   "metadata": {},
   "source": [
    "> By using a scatter plot, we can chart the box office performances of the top 25 highest-grossing summer movies for the past 10 years. Outside of noticing the large number of sequels and franchise movies making up the chart, we can see an equal spread of box office earnings across Tomatometer scores. Even the highest-earning \"rotten\" movie, \"Transformers: Revenge of the Fallen\" managed to make almost the same amount of money as 2017's highest earner, \"Wonder Woman,\" despite being on the lower end of the meter. It should also be noted that the highest-rated movie,\"The Big Sick,\" failed to make break \\$100 million. "
   ]
  },
  {
   "cell_type": "code",
   "execution_count": 7,
   "metadata": {},
   "outputs": [],
   "source": [
    "boxtotals <- read.csv(\"Desktop/Homework/Data Viz/BoxTotals.csv\")"
   ]
  },
  {
   "cell_type": "code",
   "execution_count": 8,
   "metadata": {},
   "outputs": [
    {
     "data": {
      "text/html": [
       "<table>\n",
       "<thead><tr><th scope=col>Year</th><th scope=col>Total</th></tr></thead>\n",
       "<tbody>\n",
       "\t<tr><td>2017      </td><td>3777970858</td></tr>\n",
       "\t<tr><td>2016      </td><td>4452171583</td></tr>\n",
       "\t<tr><td>2015      </td><td>4460872561</td></tr>\n",
       "\t<tr><td>2014      </td><td>4058023498</td></tr>\n",
       "\t<tr><td>2013      </td><td>4851137978</td></tr>\n",
       "\t<tr><td>2012      </td><td>4305232111</td></tr>\n",
       "</tbody>\n",
       "</table>\n"
      ],
      "text/latex": [
       "\\begin{tabular}{r|ll}\n",
       " Year & Total\\\\\n",
       "\\hline\n",
       "\t 2017       & 3777970858\\\\\n",
       "\t 2016       & 4452171583\\\\\n",
       "\t 2015       & 4460872561\\\\\n",
       "\t 2014       & 4058023498\\\\\n",
       "\t 2013       & 4851137978\\\\\n",
       "\t 2012       & 4305232111\\\\\n",
       "\\end{tabular}\n"
      ],
      "text/markdown": [
       "\n",
       "Year | Total | \n",
       "|---|---|---|---|---|---|\n",
       "| 2017       | 3777970858 | \n",
       "| 2016       | 4452171583 | \n",
       "| 2015       | 4460872561 | \n",
       "| 2014       | 4058023498 | \n",
       "| 2013       | 4851137978 | \n",
       "| 2012       | 4305232111 | \n",
       "\n",
       "\n"
      ],
      "text/plain": [
       "  Year Total     \n",
       "1 2017 3777970858\n",
       "2 2016 4452171583\n",
       "3 2015 4460872561\n",
       "4 2014 4058023498\n",
       "5 2013 4851137978\n",
       "6 2012 4305232111"
      ]
     },
     "metadata": {},
     "output_type": "display_data"
    }
   ],
   "source": [
    "head(boxtotals)"
   ]
  },
  {
   "cell_type": "markdown",
   "metadata": {},
   "source": [
    "> Without any correlation in the previous graphs, we can also look at the trend of box office performances for the past 30 years. 1987 was included as the starting year, since I wanted to chart box office data from a time before Rotten Tomatoes' inception in 1998."
   ]
  },
  {
   "attachments": {},
   "cell_type": "markdown",
   "metadata": {},
   "source": [
    "![MovieProject3.jpg](https://image.ibb.co/fHT0cx/Movie_Project3.jpg)"
   ]
  },
  {
   "cell_type": "markdown",
   "metadata": {},
   "source": [
    "> The most interesting part about this data is that Rotten Tomatoes' conception was during a steady climb in summer box office numbers. However, a small decline can be seen right before 2010, the result of the beginning of the Great Recession. It also appears that 2017 may be part of a continuing pattern of dropping earnings, but more data needs to be collected in the years going forward. As of right now, it is unreasonable to blame poor Rotten Tomatoes scores as the sole factor in declining summer box office performances on the domestic front."
   ]
  },
  {
   "cell_type": "code",
   "execution_count": null,
   "metadata": {},
   "outputs": [],
   "source": []
  }
 ],
 "metadata": {
  "kernelspec": {
   "display_name": "R",
   "language": "R",
   "name": "ir"
  },
  "language_info": {
   "codemirror_mode": "r",
   "file_extension": ".r",
   "mimetype": "text/x-r-source",
   "name": "R",
   "pygments_lexer": "r",
   "version": "3.4.3"
  }
 },
 "nbformat": 4,
 "nbformat_minor": 2
}
